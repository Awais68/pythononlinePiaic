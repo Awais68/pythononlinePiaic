{
 "cells": [
  {
   "cell_type": "code",
   "execution_count": 5,
   "metadata": {},
   "outputs": [
    {
     "name": "stdout",
     "output_type": "stream",
     "text": [
      "aman\n",
      "Sukoon\n",
      "Khushali\n",
      "Atimaad\n"
     ]
    }
   ],
   "source": [
    "print(\"aman\")\n",
    "print(\"Sukoon\")\n",
    "print(\"Khushali\")\n",
    "print(\"Atimaad\")"
   ]
  },
  {
   "cell_type": "code",
   "execution_count": 6,
   "metadata": {},
   "outputs": [
    {
     "name": "stdout",
     "output_type": "stream",
     "text": [
      "Pakistan\n",
      "ZindaBad\n",
      "Pak Fouj\n",
      "Paindabad\n"
     ]
    }
   ],
   "source": [
    "print(\"Pakistan\") # sec 2\n",
    "print(\"ZindaBad\")\n",
    "print(\"Pak Fouj\")\n",
    "print(\"Paindabad\") # hours2"
   ]
  },
  {
   "cell_type": "markdown",
   "metadata": {},
   "source": [
    "#I'm so happpy to start python with Sir Zia Khan"
   ]
  },
  {
   "cell_type": "code",
   "execution_count": 7,
   "metadata": {},
   "outputs": [
    {
     "name": "stdout",
     "output_type": "stream",
     "text": [
      "a + b\n",
      "Hello World\n",
      "Sir \n",
      "Zia\n",
      "Thanks Alot \n",
      "We proud to You \n",
      "Allah Bless you more\n"
     ]
    }
   ],
   "source": [
    "print(\"a + b\") # 2 min\n",
    "print(\"Hello World\")\n",
    "print(\"Sir \")\n",
    "print(\"Zia\")\n",
    "print(\"Thanks Alot \")\n",
    "print(\"We proud to You \") # 4 hours\n",
    "print(\"Allah Bless you more\")"
   ]
  },
  {
   "cell_type": "code",
   "execution_count": 8,
   "metadata": {},
   "outputs": [
    {
     "name": "stdout",
     "output_type": "stream",
     "text": [
      "Start With the Same line \n",
      "Jupiter is worderful\n",
      "Anaconda is very helpFull and Easy\n",
      "PYthon is so much Strong languge\n"
     ]
    }
   ],
   "source": [
    "print(\"Start With the Same line \")\n",
    "print(\"Jupiter is worderful\")\n",
    "print(\"Anaconda is very helpFull and Easy\")\n",
    "print(\"PYthon is so much Strong languge\")"
   ]
  },
  {
   "cell_type": "markdown",
   "metadata": {},
   "source": []
  }
 ],
 "metadata": {
  "kernelspec": {
   "display_name": "python12",
   "language": "python",
   "name": "python3"
  },
  "language_info": {
   "codemirror_mode": {
    "name": "ipython",
    "version": 3
   },
   "file_extension": ".py",
   "mimetype": "text/x-python",
   "name": "python",
   "nbconvert_exporter": "python",
   "pygments_lexer": "ipython3",
   "version": "3.12.0"
  }
 },
 "nbformat": 4,
 "nbformat_minor": 2
}
